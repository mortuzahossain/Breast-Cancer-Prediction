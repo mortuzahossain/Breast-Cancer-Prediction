{
 "cells": [
  {
   "cell_type": "code",
   "execution_count": 1,
   "metadata": {},
   "outputs": [],
   "source": [
    "# Importing Dataset And Modules\n",
    "from sklearn.datasets import load_breast_cancer\n",
    "from sklearn.neighbors import KNeighborsClassifier\n",
    "from sklearn.model_selection import train_test_split"
   ]
  },
  {
   "cell_type": "code",
   "execution_count": 2,
   "metadata": {},
   "outputs": [],
   "source": [
    "# Loading Data\n",
    "cancer = load_breast_cancer()"
   ]
  },
  {
   "cell_type": "code",
   "execution_count": 3,
   "metadata": {},
   "outputs": [
    {
     "name": "stdout",
     "output_type": "stream",
     "text": [
      "Accuracy of KNN Train : 0.946009389671\n",
      "Accuracy of KNN Test : 0.937062937063\n"
     ]
    }
   ],
   "source": [
    "# Split data into Train Test Set\n",
    "X_train,X_test,y_train,y_test = train_test_split(cancer.data,cancer.target,stratify=cancer.target)\n",
    "\n",
    "# Create Knn Classifier\n",
    "knn = KNeighborsClassifier()\n",
    "# Train It\n",
    "knn.fit(X_train,y_train)\n",
    "\n",
    "# See The Aaccuracy Of Training\n",
    "print \"Accuracy of KNN Train : {}\".format(knn.score(X_train,y_train))\n",
    "print \"Accuracy of KNN Test : {}\".format(knn.score(X_test,y_test))"
   ]
  },
  {
   "cell_type": "code",
   "execution_count": 4,
   "metadata": {},
   "outputs": [
    {
     "data": {
      "text/plain": [
       "['cancer-prediction-model.pkl']"
      ]
     },
     "execution_count": 4,
     "metadata": {},
     "output_type": "execute_result"
    }
   ],
   "source": [
    "# Save The Model For Further Use\n",
    "from sklearn.externals import joblib\n",
    "joblib.dump(knn,'cancer-prediction-model.pkl')"
   ]
  },
  {
   "cell_type": "code",
   "execution_count": 5,
   "metadata": {},
   "outputs": [
    {
     "name": "stdout",
     "output_type": "stream",
     "text": [
      "Train : 0.0539906103286\n",
      "Test : 0.0629370629371\n"
     ]
    }
   ],
   "source": [
    "# Measring The Mean Absolute Error\n",
    "# Measuring The Mean Absolute Error For training data\n",
    "from sklearn.metrics import mean_absolute_error\n",
    "# For Training data\n",
    "mse = mean_absolute_error(y_train,knn.predict(X_train))\n",
    "print 'Train : {}'.format(mse)\n",
    "# For Testing data\n",
    "mse = mean_absolute_error(y_test,knn.predict(X_test))\n",
    "print 'Test : {}'.format(mse)"
   ]
  },
  {
   "cell_type": "code",
   "execution_count": 6,
   "metadata": {},
   "outputs": [
    {
     "name": "stdout",
     "output_type": "stream",
     "text": [
      "\n",
      "Test Parimeter Name :  ['mean radius' 'mean texture' 'mean perimeter' 'mean area'\n",
      " 'mean smoothness' 'mean compactness' 'mean concavity'\n",
      " 'mean concave points' 'mean symmetry' 'mean fractal dimension'\n",
      " 'radius error' 'texture error' 'perimeter error' 'area error'\n",
      " 'smoothness error' 'compactness error' 'concavity error'\n",
      " 'concave points error' 'symmetry error' 'fractal dimension error'\n",
      " 'worst radius' 'worst texture' 'worst perimeter' 'worst area'\n",
      " 'worst smoothness' 'worst compactness' 'worst concavity'\n",
      " 'worst concave points' 'worst symmetry' 'worst fractal dimension']\n",
      "\n",
      "Test Result Name (Based On Position) :  ['malignant' 'benign']\n",
      "\n",
      "Testing Paramiter :  [1.361e+01 2.498e+01 8.805e+01 5.827e+02 9.488e-02 8.511e-02 8.625e-02\n",
      " 4.489e-02 1.609e-01 5.871e-02 4.565e-01 1.290e+00 2.861e+00 4.314e+01\n",
      " 5.872e-03 1.488e-02 2.647e-02 9.921e-03 1.465e-02 2.355e-03 1.699e+01\n",
      " 3.527e+01 1.086e+02 9.065e+02 1.265e-01 1.943e-01 3.169e-01 1.184e-01\n",
      " 2.651e-01 7.397e-02]\n",
      "\n",
      "Actual Test Result :  0\n",
      "\n",
      "Result Of Prediction : 0\n"
     ]
    }
   ],
   "source": [
    "# Lets Predict Using Model\n",
    "test_param = X_test[3]\n",
    "test_result = y_test[3]\n",
    "print \"\\nTest Parimeter Name : \",\n",
    "print cancer.feature_names\n",
    "print \"\\nTest Result Name (Based On Position) : \",\n",
    "print cancer.target_names\n",
    "print \"\\nTesting Paramiter : \",\n",
    "print test_param\n",
    "print \"\\nActual Test Result : \",\n",
    "print test_result\n",
    "print \"\\nResult Of Prediction : \" + str(knn.predict([test_param])[0])"
   ]
  }
 ],
 "metadata": {
  "kernelspec": {
   "display_name": "Python 2",
   "language": "python",
   "name": "python2"
  },
  "language_info": {
   "codemirror_mode": {
    "name": "ipython",
    "version": 2
   },
   "file_extension": ".py",
   "mimetype": "text/x-python",
   "name": "python",
   "nbconvert_exporter": "python",
   "pygments_lexer": "ipython2",
   "version": "2.7.14"
  }
 },
 "nbformat": 4,
 "nbformat_minor": 2
}
