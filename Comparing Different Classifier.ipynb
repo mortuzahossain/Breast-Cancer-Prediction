{
 "cells": [
  {
   "cell_type": "code",
   "execution_count": 1,
   "metadata": {},
   "outputs": [],
   "source": [
    "# Importing Default Cancer Dataset And Train Test Split Module\n",
    "from sklearn.datasets import load_breast_cancer\n",
    "from sklearn.model_selection import train_test_split"
   ]
  },
  {
   "cell_type": "code",
   "execution_count": 2,
   "metadata": {},
   "outputs": [],
   "source": [
    "# Loadin Data And Split it into train and test dataset\n",
    "cancer = load_breast_cancer()\n",
    "X_train,X_test,y_train,y_test = train_test_split(cancer.data,cancer.target,stratify=cancer.target)"
   ]
  },
  {
   "cell_type": "code",
   "execution_count": 3,
   "metadata": {},
   "outputs": [],
   "source": [
    "# For Calculating The Mean Error\n",
    "from sklearn.metrics import mean_absolute_error\n",
    "# For Saving The Trained Model\n",
    "from sklearn.externals import joblib"
   ]
  },
  {
   "cell_type": "markdown",
   "metadata": {},
   "source": [
    "# 01. KNNClassifier"
   ]
  },
  {
   "cell_type": "code",
   "execution_count": 4,
   "metadata": {},
   "outputs": [
    {
     "name": "stdout",
     "output_type": "stream",
     "text": [
      "Accuracy of KNN Train : 0.9460093896713615\n",
      "Accuracy of KNN Test : 0.9440559440559441\n",
      "Train : 0.0539906103286385\n",
      "Test : 0.055944055944055944\n"
     ]
    },
    {
     "data": {
      "text/plain": [
       "['knn-cancer-prediction-model.pkl']"
      ]
     },
     "execution_count": 4,
     "metadata": {},
     "output_type": "execute_result"
    }
   ],
   "source": [
    "from sklearn.neighbors import KNeighborsClassifier\n",
    "# Creating Classifier\n",
    "knn = KNeighborsClassifier()\n",
    "# Train The Classifier\n",
    "knn.fit(X_train,y_train)\n",
    "\n",
    "# Test The Classifier\n",
    "print (\"Accuracy of KNN Train : {}\".format(knn.score(X_train,y_train)))\n",
    "print (\"Accuracy of KNN Test : {}\".format(knn.score(X_test,y_test)))\n",
    "# See The Mean Error\n",
    "mse = mean_absolute_error(y_train,knn.predict(X_train))\n",
    "print ('Train : {}'.format(mse))\n",
    "# For Testing data\n",
    "mse = mean_absolute_error(y_test,knn.predict(X_test))\n",
    "print ('Test : {}'.format(mse))\n",
    "\n",
    "# Saving The Generated Model\n",
    "joblib.dump(knn,'knn-cancer-prediction-model.pkl')"
   ]
  },
  {
   "cell_type": "markdown",
   "metadata": {},
   "source": [
    "# 02. GradientBoostingRegressor"
   ]
  },
  {
   "cell_type": "code",
   "execution_count": 5,
   "metadata": {},
   "outputs": [
    {
     "name": "stdout",
     "output_type": "stream",
     "text": [
      "Accuracy of GradientBoostingRegressor Train : 0.9971689788396647\n",
      "Accuracy of GradientBoostingRegressor Test : 0.8324927008137503\n",
      "Train : 0.014616044555408846\n",
      "Test : 0.09012575562599787\n"
     ]
    }
   ],
   "source": [
    "from sklearn import ensemble\n",
    "# Creating Classifier\n",
    "model = ensemble.GradientBoostingRegressor()\n",
    "# Train The Classifier\n",
    "model.fit(X_train,y_train)\n",
    "# Save The Classifier\n",
    "joblib.dump(model,'GradientBoostingRegressor-cancer-prediction-model.pkl')\n",
    "\n",
    "# Test The Classifier\n",
    "print (\"Accuracy of GradientBoostingRegressor Train : {}\".format(model.score(X_train,y_train)))\n",
    "print (\"Accuracy of GradientBoostingRegressor Test : {}\".format(model.score(X_test,y_test)))\n",
    "mse = mean_absolute_error(y_train,model.predict(X_train))\n",
    "print ('Train : {}'.format(mse))\n",
    "# For Testing data\n",
    "mse = mean_absolute_error(y_test,model.predict(X_test))\n",
    "print ('Test : {}'.format(mse))"
   ]
  },
  {
   "cell_type": "markdown",
   "metadata": {},
   "source": [
    "# 03. Multi-layer Perceptron"
   ]
  },
  {
   "cell_type": "code",
   "execution_count": 6,
   "metadata": {},
   "outputs": [
    {
     "name": "stdout",
     "output_type": "stream",
     "text": [
      "Accuracy of MLPClassifier Train : 0.9225352112676056\n",
      "Accuracy of MLPClassifier Test : 0.8811188811188811\n",
      "Train : 0.014616044555408846\n",
      "Test : 0.09012575562599787\n"
     ]
    }
   ],
   "source": [
    "from sklearn.neural_network import MLPClassifier\n",
    "mlp = MLPClassifier()\n",
    "# Train The Classifier\n",
    "mlp.fit(X_train,y_train)\n",
    "# Saving The Model\n",
    "joblib.dump(mlp,'mlp-cancer-prediction-model.pkl')\n",
    "# Test The Classifier\n",
    "print (\"Accuracy of MLPClassifier Train : {}\".format(mlp.score(X_train,y_train)))\n",
    "print (\"Accuracy of MLPClassifier Test : {}\".format(mlp.score(X_test,y_test)))\n",
    "mse = mean_absolute_error(y_train,model.predict(X_train))\n",
    "print ('Train : {}'.format(mse))\n",
    "# For Testing data\n",
    "mse = mean_absolute_error(y_test,model.predict(X_test))\n",
    "print ('Test : {}'.format(mse))"
   ]
  },
  {
   "cell_type": "markdown",
   "metadata": {},
   "source": [
    "# 04. RandomForestClassifier"
   ]
  },
  {
   "cell_type": "code",
   "execution_count": 7,
   "metadata": {},
   "outputs": [
    {
     "name": "stdout",
     "output_type": "stream",
     "text": [
      "Accuracy of RandomForestClassifier Train : 1.0\n",
      "Accuracy of RandomForestClassifier Test : 0.9370629370629371\n",
      "Train : 0.014616044555408846\n",
      "Test : 0.09012575562599787\n"
     ]
    }
   ],
   "source": [
    "from sklearn.ensemble import RandomForestClassifier\n",
    "clf = RandomForestClassifier()\n",
    "clf.fit(X_train,y_train)\n",
    "# Saving The Model\n",
    "joblib.dump(mlp,'RandomForestClassifier-cancer-prediction-model.pkl')\n",
    "# Test The Classifier\n",
    "print (\"Accuracy of RandomForestClassifier Train : {}\".format(clf.score(X_train,y_train)))\n",
    "print (\"Accuracy of RandomForestClassifier Test : {}\".format(clf.score(X_test,y_test)))\n",
    "mse = mean_absolute_error(y_train,model.predict(X_train))\n",
    "print ('Train : {}'.format(mse))\n",
    "# For Testing data\n",
    "mse = mean_absolute_error(y_test,model.predict(X_test))\n",
    "print ('Test : {}'.format(mse))"
   ]
  },
  {
   "cell_type": "markdown",
   "metadata": {},
   "source": [
    "# 05. LinearSVC"
   ]
  },
  {
   "cell_type": "code",
   "execution_count": 8,
   "metadata": {},
   "outputs": [
    {
     "name": "stdout",
     "output_type": "stream",
     "text": [
      "Accuracy of LinearSVC Train : 0.92018779342723\n",
      "Accuracy of LinearSVC Test : 0.9440559440559441\n",
      "Train : 0.014616044555408846\n",
      "Test : 0.09012575562599787\n"
     ]
    }
   ],
   "source": [
    "from sklearn.svm import LinearSVC\n",
    "clf = LinearSVC()\n",
    "clf.fit(X_train,y_train)\n",
    "# Saving The Model\n",
    "joblib.dump(mlp,'LinearSVC-cancer-prediction-model.pkl')\n",
    "# Test The Classifier\n",
    "print (\"Accuracy of LinearSVC Train : {}\".format(clf.score(X_train,y_train)))\n",
    "print (\"Accuracy of LinearSVC Test : {}\".format(clf.score(X_test,y_test)))\n",
    "mse = mean_absolute_error(y_train,model.predict(X_train))\n",
    "print ('Train : {}'.format(mse))\n",
    "# For Testing data\n",
    "mse = mean_absolute_error(y_test,model.predict(X_test))\n",
    "print ('Test : {}'.format(mse))"
   ]
  },
  {
   "cell_type": "markdown",
   "metadata": {},
   "source": [
    "# 06. GaussianNB"
   ]
  },
  {
   "cell_type": "code",
   "execution_count": 9,
   "metadata": {},
   "outputs": [
    {
     "name": "stdout",
     "output_type": "stream",
     "text": [
      "Accuracy of GaussianNB Train : 0.9366197183098591\n",
      "Accuracy of GaussianNB Test : 0.951048951048951\n",
      "Train : 0.014616044555408846\n",
      "Test : 0.09012575562599787\n"
     ]
    }
   ],
   "source": [
    "from sklearn.naive_bayes import GaussianNB\n",
    "clf = GaussianNB()\n",
    "clf.fit(X_train,y_train)\n",
    "# Saving The Model\n",
    "joblib.dump(mlp,'GaussianNB-cancer-prediction-model.pkl')\n",
    "# Test The Classifier\n",
    "print (\"Accuracy of GaussianNB Train : {}\".format(clf.score(X_train,y_train)))\n",
    "print (\"Accuracy of GaussianNB Test : {}\".format(clf.score(X_test,y_test)))\n",
    "mse = mean_absolute_error(y_train,model.predict(X_train))\n",
    "print ('Train : {}'.format(mse))\n",
    "# For Testing data\n",
    "mse = mean_absolute_error(y_test,model.predict(X_test))\n",
    "print ('Test : {}'.format(mse))"
   ]
  },
  {
   "cell_type": "markdown",
   "metadata": {},
   "source": [
    "# 07. CalibratedClassifierCV"
   ]
  },
  {
   "cell_type": "code",
   "execution_count": 10,
   "metadata": {},
   "outputs": [
    {
     "name": "stdout",
     "output_type": "stream",
     "text": [
      "Accuracy of CalibratedClassifierCV Train : 0.9295774647887324\n",
      "Accuracy of CalibratedClassifierCV Test : 0.9370629370629371\n",
      "Train : 0.014616044555408846\n",
      "Test : 0.09012575562599787\n"
     ]
    }
   ],
   "source": [
    "from sklearn.calibration import CalibratedClassifierCV\n",
    "clf = CalibratedClassifierCV()\n",
    "clf.fit(X_train,y_train)\n",
    "# Saving The Model\n",
    "joblib.dump(mlp,'CalibratedClassifierCV-cancer-prediction-model.pkl')\n",
    "# Test The Classifier\n",
    "print (\"Accuracy of CalibratedClassifierCV Train : {}\".format(clf.score(X_train,y_train)))\n",
    "print (\"Accuracy of CalibratedClassifierCV Test : {}\".format(clf.score(X_test,y_test)))\n",
    "mse = mean_absolute_error(y_train,model.predict(X_train))\n",
    "print ('Train : {}'.format(mse))\n",
    "# For Testing data\n",
    "mse = mean_absolute_error(y_test,model.predict(X_test))\n",
    "print ('Test : {}'.format(mse))"
   ]
  }
 ],
 "metadata": {
  "kernelspec": {
   "display_name": "Python 3",
   "language": "python",
   "name": "python3"
  },
  "language_info": {
   "codemirror_mode": {
    "name": "ipython",
    "version": 3
   },
   "file_extension": ".py",
   "mimetype": "text/x-python",
   "name": "python",
   "nbconvert_exporter": "python",
   "pygments_lexer": "ipython3",
   "version": "3.6.4"
  }
 },
 "nbformat": 4,
 "nbformat_minor": 2
}
